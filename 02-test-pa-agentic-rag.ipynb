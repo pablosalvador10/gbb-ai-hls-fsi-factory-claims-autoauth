{
 "cells": [
  {
   "cell_type": "code",
   "execution_count": 1,
   "metadata": {},
   "outputs": [
    {
     "name": "stdout",
     "output_type": "stream",
     "text": [
      "Directory changed to C:\\Users\\pablosal\\Desktop\\gbb-ai-hls-factory-prior-auth\n"
     ]
    }
   ],
   "source": [
    "import os\n",
    "\n",
    "# Define the target directory\n",
    "target_directory = r\"C:\\Users\\pablosal\\Desktop\\gbb-ai-hls-factory-prior-auth\"  # change your directory here\n",
    "\n",
    "# Check if the directory exists\n",
    "if os.path.exists(target_directory):\n",
    "    # Change the current working directory\n",
    "    os.chdir(target_directory)\n",
    "    print(f\"Directory changed to {os.getcwd()}\")\n",
    "else:\n",
    "    print(f\"Directory {target_directory} does not exist.\")"
   ]
  },
  {
   "cell_type": "markdown",
   "metadata": {},
   "source": [
    "## Testing Agentic Rag"
   ]
  },
  {
   "cell_type": "code",
   "execution_count": 2,
   "metadata": {},
   "outputs": [],
   "source": [
    "CASE_ID = \"TEST-001\"\n",
    "from src.pipeline.agenticRag.run import AgenticRAG\n",
    "agenticrag = AgenticRAG(caseId=CASE_ID)"
   ]
  },
  {
   "cell_type": "code",
   "execution_count": 5,
   "metadata": {},
   "outputs": [],
   "source": [
    "from src.pipeline.promptEngineering.models import ClinicalInformation, TreatmentRequest"
   ]
  },
  {
   "cell_type": "code",
   "execution_count": 7,
   "metadata": {},
   "outputs": [],
   "source": [
    "# Example instantiation based on the provided data:\n",
    "my_clinical_info = ClinicalInformation(\n",
    "    diagnosis=\"Crohn's Disease; Anemia 2/2 blood loss\",\n",
    "    icd_10_code=\"K50.90; D50.9\",\n",
    "    prior_treatments_and_results=\"Not provided\",\n",
    "    specific_drugs_taken_and_failures=\"Not provided\",\n",
    "    alternative_drugs_required=\"Not provided\",\n",
    "    relevant_lab_results_or_imaging=(\n",
    "        \"EGD Findings: Biopsies obtained and pending, Esophagus: Normal appearance, \"\n",
    "        \"Stomach: Gastritis, erythema present, Duodenum: Mild to moderate duodenitis with edema; \"\n",
    "        \"Colonoscopy Findings: Biopsies obtained and pending, Ileum: Patchy inflammation with areas of erythema and ulceration, \"\n",
    "        \"Colon: Diffuse inflammation, Granularity and friability present, Rectum: Mild inflammation, no significant ulceration; \"\n",
    "        \"MRI enterography: pending; CBC with Differential: Hemoglobin 9.0 g/dL, Hematocrit 32%, Red Blood Cells (RBC) 3.5 million/μL, \"\n",
    "        \"Mean Corpuscular Volume (MCV) 78 fL, Mean Corpuscular Hemoglobin (MCH) 28 pg, Mean Corpuscular Hemoglobin Concentration (MCHC) 34 g/dL, \"\n",
    "        \"Platelets 450,000 cells/μL, White Blood Cells (WBC) 12,000 cells/μL, Bands (Immature Neutrophils) 5%, Neutrophils 75%, \"\n",
    "        \"Lymphocytes 18%, Monocytes 4%, Eosinophils 1%, Basophils 0%; CMP: Glucose 90 mg/dL, BUN 15 mg/dL, Creatinine 0.5 mg/dL, \"\n",
    "        \"Sodium 138 mEq/L, Potassium 4.0 mEq/L, Chloride 102 mEq/L, Bicarbonate 24 mEq/L, Calcium 9.2 mg/dL; ESR 15 mm/h; CRP 12 mg/L; \"\n",
    "        \"Fecal Calprotectin 100 μg/g; Fecal Occult Blood Positive; Liver Function Test: AST 25 U/L, ALT 22 U/L, ALP 120 U/L, \"\n",
    "        \"Bilirubin (Total) 0.6 mg/dL; Iron Panel: Ferritin 15 ng/mL, Iron 40 μg/dL, Total Iron Binding Capacity (TIBC) 450 μg/dL; \"\n",
    "        \"Folate Level 5 ng/mL; Vitamin B12 Level 300 pg/mL\"\n",
    "    ),\n",
    "    symptom_severity_and_impact=(\n",
    "        \"Patient has multiple episodes of abdominal cramping and bowel movements with visible hematochezia, \"\n",
    "        \"did not sleep well, appears pale, tired but interactive; Positive for fatigue, pallor, abdominal pain, \"\n",
    "        \"hematochezia, dizziness, blood loss (by rectum); HR 110 bpm, BP 110/70 mmHg, RR 20 bpm, Temp 98.6°F (37°C); \"\n",
    "        \"Pallor present, mild tachycardia present\"\n",
    "    ),\n",
    "    prognosis_and_risk_if_not_approved=(\n",
    "        \"Patient continues to have frequent blood in stools and anemia as well as abdominal discomfort\"\n",
    "    ),\n",
    "    clinical_rationale_for_urgency=(\n",
    "        \"Urgent (In checking this box, I attest to the fact that applying the standard review time frame \"\n",
    "        \"may seriously jeopardize the customer's life, health, or ability to regain maximum function)\"\n",
    "    ),\n",
    "    treatment_request=TreatmentRequest(\n",
    "        name_of_medication_or_procedure=\"Adalimumab\",\n",
    "        code_of_medication_or_procedure=\"Not provided\",\n",
    "        dosage=(\n",
    "            \"160 mg (given as four 40 mg injections on day 1) followed by \"\n",
    "            \"80 mg (given as two 40 mg injections) two weeks later. \"\n",
    "            \"40 mg every other week starting 2 weeks from end dose\"\n",
    "        ),\n",
    "        duration=\"6 months; 16 injections\",\n",
    "        rationale=\"Patient will likely need to initiate biologic therapy given severity of symptoms\",\n",
    "        presumed_eligibility=\"Not provided\"\n",
    "    )\n",
    ")\n",
    "\n",
    "# Now, 'my_clinical_info' contains a fully populated instance of ClinicalInformation."
   ]
  },
  {
   "cell_type": "code",
   "execution_count": 8,
   "metadata": {},
   "outputs": [
    {
     "name": "stderr",
     "output_type": "stream",
     "text": [
      "2024-12-27 16:23:43,231 - agenticRag - MainProcess - INFO     [caseID: TEST-001] Starting AgenticRAG attempt 1 of 3 (run_v2.py:run:288)\n",
      "2024-12-27 16:23:43,235 - agenticRag - MainProcess - INFO     [caseID: TEST-001] Expanding query... (run_v2.py:expand_query:101)\n",
      "2024-12-27 16:23:43,284 - micro - MainProcess - INFO     Function generate_chat_response started at 2024-12-27 16:23:43 (aoai_helper.py:generate_chat_response:370)\n",
      "2024-12-27 16:23:43,286 - micro - MainProcess - INFO     Sending request to Azure OpenAI at 2024-12-27 16:23:43 (aoai_helper.py:generate_chat_response:427)\n",
      "2024-12-27 16:23:45,578 - micro - MainProcess - INFO     Function generate_chat_response finished at 2024-12-27 16:23:45 (Duration: 2.29 seconds) (aoai_helper.py:generate_chat_response:481)\n",
      "2024-12-27 16:23:45,580 - agenticRag - MainProcess - INFO     [caseID: TEST-001] Expanded Query: Prior authorization policy for Adalimumab for Crohn's Disease (CD) and anemia due to blood loss. Related terms: Crohn disease, inflammatory bowel disease (IBD), chronic inflammatory intestinal condition, biologic therapy, Humira, TNF inhibitor, tumor necrosis factor blocker. Dosage details: Initial dose of 160 mg (four 40 mg injections on day 1) followed by 80 mg (two 40 mg injections) two weeks later, then 40 mg every other week starting 2 weeks from end dose. Treatment duration: 6 months, total of 16 injections. Medical justification: Severe symptoms necessitating initiation of biologic therapy. (run_v2.py:run:296)\n",
      "2024-12-27 16:23:45,582 - agenticRag - MainProcess - INFO     [caseID: TEST-001] Retrieving policies... (run_v2.py:retrieve_policies:200)\n",
      "2024-12-27 16:23:46,231 - agenticRag - MainProcess - INFO     [caseID: TEST-001] Search results retrieved successfully (run_v2.py:run:304)\n",
      "2024-12-27 16:23:46,238 - agenticRag - MainProcess - INFO     [caseID: TEST-001] Evaluating search results... (run_v2.py:evaluate_results:246)\n",
      "2024-12-27 16:23:46,271 - micro - MainProcess - INFO     Function generate_chat_response started at 2024-12-27 16:23:46 (aoai_helper.py:generate_chat_response:370)\n",
      "2024-12-27 16:23:46,271 - micro - MainProcess - INFO     Sending request to Azure OpenAI at 2024-12-27 16:23:46 (aoai_helper.py:generate_chat_response:427)\n",
      "2024-12-27 16:23:47,898 - micro - MainProcess - INFO     Function generate_chat_response finished at 2024-12-27 16:23:47 (Duration: 1.63 seconds) (aoai_helper.py:generate_chat_response:481)\n",
      "2024-12-27 16:23:47,898 - agenticRag - MainProcess - INFO     [caseID: TEST-001] Evaluation retry flag set to true. Retrying... (run_v2.py:run:312)\n",
      "2024-12-27 16:23:47,898 - agenticRag - MainProcess - INFO     [caseID: TEST-001] Starting AgenticRAG attempt 2 of 3 (run_v2.py:run:288)\n",
      "2024-12-27 16:23:47,907 - agenticRag - MainProcess - INFO     [caseID: TEST-001] Expanding query... (run_v2.py:expand_query:101)\n",
      "2024-12-27 16:23:47,907 - micro - MainProcess - INFO     Function generate_chat_response started at 2024-12-27 16:23:47 (aoai_helper.py:generate_chat_response:370)\n",
      "2024-12-27 16:23:47,914 - micro - MainProcess - INFO     Sending request to Azure OpenAI at 2024-12-27 16:23:47 (aoai_helper.py:generate_chat_response:427)\n",
      "2024-12-27 16:23:50,156 - micro - MainProcess - INFO     Function generate_chat_response finished at 2024-12-27 16:23:50 (Duration: 2.25 seconds) (aoai_helper.py:generate_chat_response:481)\n",
      "2024-12-27 16:23:50,158 - agenticRag - MainProcess - INFO     [caseID: TEST-001] Expanded Query: Prior authorization policy for Adalimumab for Crohn's Disease (CD) and anemia due to blood loss. Related terms: Crohn disease, inflammatory bowel disease (IBD), chronic inflammatory intestinal condition, biologic therapy, Humira, TNF inhibitor, tumor necrosis factor blocker. Dosage details: Initial dose of 160 mg administered as four 40 mg injections on day 1, followed by 80 mg administered as two 40 mg injections two weeks later, then 40 mg every other week starting from two weeks post the last dose. Treatment plan duration: 6 months with a total of 16 injections. Rationale for medication use includes severe symptoms not managed by conventional therapy, requirement for initiating biologic therapy, and management of Crohn's-related anemia due to chronic blood loss. (run_v2.py:run:296)\n",
      "2024-12-27 16:23:50,164 - agenticRag - MainProcess - INFO     [caseID: TEST-001] Retrieving policies... (run_v2.py:retrieve_policies:200)\n",
      "2024-12-27 16:23:50,534 - agenticRag - MainProcess - INFO     [caseID: TEST-001] Search results retrieved successfully (run_v2.py:run:304)\n",
      "2024-12-27 16:23:50,534 - agenticRag - MainProcess - INFO     [caseID: TEST-001] Evaluating search results... (run_v2.py:evaluate_results:246)\n",
      "2024-12-27 16:23:50,546 - micro - MainProcess - INFO     Function generate_chat_response started at 2024-12-27 16:23:50 (aoai_helper.py:generate_chat_response:370)\n",
      "2024-12-27 16:23:50,546 - micro - MainProcess - INFO     Sending request to Azure OpenAI at 2024-12-27 16:23:50 (aoai_helper.py:generate_chat_response:427)\n",
      "2024-12-27 16:23:51,606 - micro - MainProcess - INFO     Function generate_chat_response finished at 2024-12-27 16:23:51 (Duration: 1.06 seconds) (aoai_helper.py:generate_chat_response:481)\n",
      "2024-12-27 16:23:51,606 - agenticRag - MainProcess - INFO     [caseID: TEST-001] Evaluation successful. Policies: ['https://storageaeastusfactory.blob.core.windows.net/pre-auth-policies/policies_ocr/001.pdf'] (run_v2.py:run:309)\n"
     ]
    },
    {
     "data": {
      "text/plain": [
       "['https://storageaeastusfactory.blob.core.windows.net/pre-auth-policies/policies_ocr/001.pdf']"
      ]
     },
     "execution_count": 8,
     "metadata": {},
     "output_type": "execute_result"
    }
   ],
   "source": [
    "await agenticrag.run(clinical_info=my_clinical_info, max_retries=3)"
   ]
  }
 ],
 "metadata": {
  "kernelspec": {
   "display_name": "pa-ai-env",
   "language": "python",
   "name": "python3"
  },
  "language_info": {
   "codemirror_mode": {
    "name": "ipython",
    "version": 3
   },
   "file_extension": ".py",
   "mimetype": "text/x-python",
   "name": "python",
   "nbconvert_exporter": "python",
   "pygments_lexer": "ipython3",
   "version": "3.10.15"
  }
 },
 "nbformat": 4,
 "nbformat_minor": 2
}
