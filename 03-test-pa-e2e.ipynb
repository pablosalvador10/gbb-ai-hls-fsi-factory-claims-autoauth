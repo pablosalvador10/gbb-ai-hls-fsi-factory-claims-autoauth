{
 "cells": [
  {
   "cell_type": "code",
   "execution_count": 23,
   "metadata": {},
   "outputs": [
    {
     "name": "stdout",
     "output_type": "stream",
     "text": [
      "Directory changed to C:\\Dev\\Projects\\gbb-ai-hls-factory-prior-auth\n"
     ]
    }
   ],
   "source": [
    "import os\n",
    "\n",
    "# Define the target directory\n",
    "target_directory = r\"C:\\Dev\\Projects\\gbb-ai-hls-factory-prior-auth\"  # change your directory here\n",
    "\n",
    "# Check if the directory exists\n",
    "if os.path.exists(target_directory):\n",
    "    # Change the current working directory\n",
    "    os.chdir(target_directory)\n",
    "    print(f\"Directory changed to {os.getcwd()}\")\n",
    "else:\n",
    "    print(f\"Directory {target_directory} does not exist.\")"
   ]
  },
  {
   "cell_type": "code",
   "execution_count": 24,
   "metadata": {},
   "outputs": [
    {
     "name": "stderr",
     "output_type": "stream",
     "text": [
      "2025-01-31 15:51:52,339 - micro - MainProcess - INFO     Container 'pre-auth-policies' already exists. (blob_helper.py:_create_container_if_not_exists:89)\n",
      "2025-01-31 15:51:52,752 - micro - MainProcess - INFO     Container 'pre-auth-policies' already exists. (blob_helper.py:_create_container_if_not_exists:89)\n",
      "C:\\Dev\\Projects\\gbb-ai-hls-factory-prior-auth\\src\\cosmosdb\\cosmosmongodb_helper.py:31: UserWarning: You appear to be connected to a CosmosDB cluster. For more information regarding feature compatibility and support please visit https://www.mongodb.com/supportability/cosmosdb\n",
      "  self.client = pymongo.MongoClient(connection_string)\n"
     ]
    },
    {
     "name": "stdout",
     "output_type": "stream",
     "text": [
      "Templates found: ['evaluator_system_prompt.jinja', 'evaluator_user_prompt.jinja', 'formulator_system_prompt.jinja', 'formulator_user_prompt.jinja', 'ner_clinician_system.jinja', 'ner_clinician_user.jinja', 'ner_patient_system.jinja', 'ner_patient_user.jinja', 'ner_physician_system.jinja', 'ner_physician_user.jinja', 'ner_system_prompt.jinja', 'ner_user_prompt.jinja', 'prior_auth_o1_user_prompt.jinja', 'prior_auth_o1_user_prompt_b.jinja', 'prior_auth_system_prompt.jinja', 'prior_auth_user_prompt.jinja', 'query_classificator_system_prompt.jinja', 'query_classificator_user_prompt.jinja', 'query_expansion_system_prompt.jinja', 'query_expansion_user_prompt.jinja', 'summarize_policy_system.jinja', 'summarize_policy_user.jinja']\n"
     ]
    }
   ],
   "source": [
    "from src.pipeline.paprocessing.run import PAProcessingPipeline\n",
    "CASE_ID = \"TEST-003a\"\n",
    "pa_pipeline = PAProcessingPipeline(send_cloud_logs=True, caseId=CASE_ID)"
   ]
  },
  {
   "cell_type": "code",
   "execution_count": 25,
   "metadata": {},
   "outputs": [
    {
     "name": "stderr",
     "output_type": "stream",
     "text": [
      "2025-01-31 15:51:53,283 - micro - MainProcess - INFO     Found 3 files with extensions ['pdf'] (utils.py:find_all_files:31)\n"
     ]
    }
   ],
   "source": [
    "uploaded_files = (\n",
    "    r\"C:\\Dev\\Projects\\gbb-ai-hls-factory-prior-auth\\utils\\data\\cases\\003\\b\"\n",
    ")\n",
    "from src.pipeline.paprocessing.utils import find_all_files\n",
    "\n",
    "files = find_all_files(uploaded_files, [\"pdf\"])"
   ]
  },
  {
   "cell_type": "markdown",
   "metadata": {},
   "source": [
    "## Testing PA Case"
   ]
  },
  {
   "cell_type": "code",
   "execution_count": 26,
   "metadata": {},
   "outputs": [
    {
     "name": "stderr",
     "output_type": "stream",
     "text": [
      "2025-01-31 15:51:53,301 - PAProcessing - MainProcess - INFO     PAProcessing started TEST-003a. (run.py:run:504)\n",
      "2025-01-31 15:51:53,639 - micro - MainProcess - INFO     File 'C:\\Dev\\Projects\\gbb-ai-hls-factory-prior-auth\\utils\\data\\cases\\003\\b\\doctor_notes\\003_b (note) .pdf' uploaded to blob 'pa_proccesing_runs/TEST-003a/raw_uploaded_files/003_b (note) .pdf' successfully. (blob_helper.py:_upload_single_file:201)\n",
      "2025-01-31 15:51:53,641 - PAProcessing - MainProcess - INFO     Uploaded file 'C:\\Dev\\Projects\\gbb-ai-hls-factory-prior-auth\\utils\\data\\cases\\003\\b\\doctor_notes\\003_b (note) .pdf' to blob 'https://storageaeastusfactory.blob.core.windows.net/pre-auth-policies/pa_proccesing_runs/TEST-003a/raw_uploaded_files/003_b (note) .pdf' in container 'pre-auth-policies'. (run.py:upload_files_to_blob:264)\n",
      "2025-01-31 15:51:53,781 - micro - MainProcess - INFO     File 'C:\\Dev\\Projects\\gbb-ai-hls-factory-prior-auth\\utils\\data\\cases\\003\\b\\labs\\003_b (labs) .pdf' uploaded to blob 'pa_proccesing_runs/TEST-003a/raw_uploaded_files/003_b (labs) .pdf' successfully. (blob_helper.py:_upload_single_file:201)\n",
      "2025-01-31 15:51:53,783 - PAProcessing - MainProcess - INFO     Uploaded file 'C:\\Dev\\Projects\\gbb-ai-hls-factory-prior-auth\\utils\\data\\cases\\003\\b\\labs\\003_b (labs) .pdf' to blob 'https://storageaeastusfactory.blob.core.windows.net/pre-auth-policies/pa_proccesing_runs/TEST-003a/raw_uploaded_files/003_b (labs) .pdf' in container 'pre-auth-policies'. (run.py:upload_files_to_blob:264)\n",
      "2025-01-31 15:51:54,105 - micro - MainProcess - INFO     File 'C:\\Dev\\Projects\\gbb-ai-hls-factory-prior-auth\\utils\\data\\cases\\003\\b\\pa_form\\003_b (form).pdf' uploaded to blob 'pa_proccesing_runs/TEST-003a/raw_uploaded_files/003_b (form).pdf' successfully. (blob_helper.py:_upload_single_file:201)\n",
      "2025-01-31 15:51:54,107 - PAProcessing - MainProcess - INFO     Uploaded file 'C:\\Dev\\Projects\\gbb-ai-hls-factory-prior-auth\\utils\\data\\cases\\003\\b\\pa_form\\003_b (form).pdf' to blob 'https://storageaeastusfactory.blob.core.windows.net/pre-auth-policies/pa_proccesing_runs/TEST-003a/raw_uploaded_files/003_b (form).pdf' in container 'pre-auth-policies'. (run.py:upload_files_to_blob:264)\n",
      "2025-01-31 15:51:54,109 - PAProcessing - MainProcess - INFO     All files processed for upload to Azure Blob Storage in container 'pre-auth-policies'. (run.py:upload_files_to_blob:274)\n",
      "2025-01-31 15:51:54,535 - micro - MainProcess - INFO     Container 'pre-auth-policies' already exists. (blob_helper.py:_create_container_if_not_exists:89)\n",
      "2025-01-31 15:51:54,538 - micro - MainProcess - INFO     AzureBlobManager initialized successfully. (pdfhandler.py:__init__:42)\n",
      "2025-01-31 15:51:54,538 - PAProcessing - MainProcess - INFO     Processing file: C:\\Dev\\Projects\\gbb-ai-hls-factory-prior-auth\\utils\\data\\cases\\003\\b\\doctor_notes\\003_b (note) .pdf (run.py:process_uploaded_files:299)\n",
      "2025-01-31 15:51:54,540 - micro - MainProcess - INFO     Input path is a local file or directory: C:\\Dev\\Projects\\gbb-ai-hls-factory-prior-auth\\utils\\data\\cases\\003\\b\\doctor_notes\\003_b (note) .pdf (pdfhandler.py:extract_images_from_pdf:101)\n",
      "2025-01-31 15:51:54,541 - micro - MainProcess - INFO     Opening file: C:\\Dev\\Projects\\gbb-ai-hls-factory-prior-auth\\utils\\data\\cases\\003\\b\\doctor_notes\\003_b (note) .pdf (pdfhandler.py:_process_single_pdf:230)\n",
      "2025-01-31 15:51:54,545 - micro - MainProcess - INFO     Processing page 1 of 'C:\\Dev\\Projects\\gbb-ai-hls-factory-prior-auth\\utils\\data\\cases\\003\\b\\doctor_notes\\003_b (note) .pdf' (pdfhandler.py:_process_single_pdf:235)\n",
      "2025-01-31 15:51:54,650 - micro - MainProcess - INFO     Saved image: C:\\Users\\jokarash\\AppData\\Local\\Temp\\tmpechts7aa\\003_b (note) -page-1.png (pdfhandler.py:_process_single_pdf:243)\n",
      "2025-01-31 15:51:54,652 - micro - MainProcess - INFO     Processing page 2 of 'C:\\Dev\\Projects\\gbb-ai-hls-factory-prior-auth\\utils\\data\\cases\\003\\b\\doctor_notes\\003_b (note) .pdf' (pdfhandler.py:_process_single_pdf:235)\n",
      "2025-01-31 15:51:54,753 - micro - MainProcess - INFO     Saved image: C:\\Users\\jokarash\\AppData\\Local\\Temp\\tmpechts7aa\\003_b (note) -page-2.png (pdfhandler.py:_process_single_pdf:243)\n",
      "2025-01-31 15:51:54,754 - micro - MainProcess - INFO     Processing page 3 of 'C:\\Dev\\Projects\\gbb-ai-hls-factory-prior-auth\\utils\\data\\cases\\003\\b\\doctor_notes\\003_b (note) .pdf' (pdfhandler.py:_process_single_pdf:235)\n",
      "2025-01-31 15:51:54,852 - micro - MainProcess - INFO     Saved image: C:\\Users\\jokarash\\AppData\\Local\\Temp\\tmpechts7aa\\003_b (note) -page-3.png (pdfhandler.py:_process_single_pdf:243)\n",
      "2025-01-31 15:51:54,854 - micro - MainProcess - INFO     Processing page 4 of 'C:\\Dev\\Projects\\gbb-ai-hls-factory-prior-auth\\utils\\data\\cases\\003\\b\\doctor_notes\\003_b (note) .pdf' (pdfhandler.py:_process_single_pdf:235)\n",
      "2025-01-31 15:51:54,927 - micro - MainProcess - INFO     Saved image: C:\\Users\\jokarash\\AppData\\Local\\Temp\\tmpechts7aa\\003_b (note) -page-4.png (pdfhandler.py:_process_single_pdf:243)\n",
      "2025-01-31 15:51:55,085 - micro - MainProcess - INFO     File 'C:\\Users\\jokarash\\AppData\\Local\\Temp\\tmpechts7aa\\003_b (note) -page-1.png' uploaded to blob 'pa_proccesing_runs/TEST-003a/processed_images/003_b (note) -page-1.png' successfully. (blob_helper.py:_upload_single_file:201)\n",
      "2025-01-31 15:51:55,087 - PAProcessing - MainProcess - INFO     Uploaded file 'C:\\Users\\jokarash\\AppData\\Local\\Temp\\tmpechts7aa\\003_b (note) -page-1.png' to blob 'https://storageaeastusfactory.blob.core.windows.net/pre-auth-policies/pa_proccesing_runs/TEST-003a/processed_images/003_b (note) -page-1.png' in container 'pre-auth-policies'. (run.py:upload_files_to_blob:264)\n",
      "2025-01-31 15:51:55,242 - micro - MainProcess - INFO     File 'C:\\Users\\jokarash\\AppData\\Local\\Temp\\tmpechts7aa\\003_b (note) -page-2.png' uploaded to blob 'pa_proccesing_runs/TEST-003a/processed_images/003_b (note) -page-2.png' successfully. (blob_helper.py:_upload_single_file:201)\n",
      "2025-01-31 15:51:55,243 - PAProcessing - MainProcess - INFO     Uploaded file 'C:\\Users\\jokarash\\AppData\\Local\\Temp\\tmpechts7aa\\003_b (note) -page-2.png' to blob 'https://storageaeastusfactory.blob.core.windows.net/pre-auth-policies/pa_proccesing_runs/TEST-003a/processed_images/003_b (note) -page-2.png' in container 'pre-auth-policies'. (run.py:upload_files_to_blob:264)\n",
      "2025-01-31 15:51:55,392 - micro - MainProcess - INFO     File 'C:\\Users\\jokarash\\AppData\\Local\\Temp\\tmpechts7aa\\003_b (note) -page-3.png' uploaded to blob 'pa_proccesing_runs/TEST-003a/processed_images/003_b (note) -page-3.png' successfully. (blob_helper.py:_upload_single_file:201)\n",
      "2025-01-31 15:51:55,394 - PAProcessing - MainProcess - INFO     Uploaded file 'C:\\Users\\jokarash\\AppData\\Local\\Temp\\tmpechts7aa\\003_b (note) -page-3.png' to blob 'https://storageaeastusfactory.blob.core.windows.net/pre-auth-policies/pa_proccesing_runs/TEST-003a/processed_images/003_b (note) -page-3.png' in container 'pre-auth-policies'. (run.py:upload_files_to_blob:264)\n",
      "2025-01-31 15:51:55,505 - micro - MainProcess - INFO     File 'C:\\Users\\jokarash\\AppData\\Local\\Temp\\tmpechts7aa\\003_b (note) -page-4.png' uploaded to blob 'pa_proccesing_runs/TEST-003a/processed_images/003_b (note) -page-4.png' successfully. (blob_helper.py:_upload_single_file:201)\n",
      "2025-01-31 15:51:55,507 - PAProcessing - MainProcess - INFO     Uploaded file 'C:\\Users\\jokarash\\AppData\\Local\\Temp\\tmpechts7aa\\003_b (note) -page-4.png' to blob 'https://storageaeastusfactory.blob.core.windows.net/pre-auth-policies/pa_proccesing_runs/TEST-003a/processed_images/003_b (note) -page-4.png' in container 'pre-auth-policies'. (run.py:upload_files_to_blob:264)\n",
      "2025-01-31 15:51:55,508 - PAProcessing - MainProcess - INFO     All files processed for upload to Azure Blob Storage in container 'pre-auth-policies'. (run.py:upload_files_to_blob:274)\n",
      "2025-01-31 15:51:55,511 - PAProcessing - MainProcess - INFO     Images extracted and uploaded from: C:\\Users\\jokarash\\AppData\\Local\\Temp\\tmpechts7aa (run.py:process_uploaded_files:309)\n",
      "2025-01-31 15:51:55,512 - PAProcessing - MainProcess - INFO     Processing file: C:\\Dev\\Projects\\gbb-ai-hls-factory-prior-auth\\utils\\data\\cases\\003\\b\\labs\\003_b (labs) .pdf (run.py:process_uploaded_files:299)\n",
      "2025-01-31 15:51:55,513 - micro - MainProcess - INFO     Input path is a local file or directory: C:\\Dev\\Projects\\gbb-ai-hls-factory-prior-auth\\utils\\data\\cases\\003\\b\\labs\\003_b (labs) .pdf (pdfhandler.py:extract_images_from_pdf:101)\n",
      "2025-01-31 15:51:55,514 - micro - MainProcess - INFO     Opening file: C:\\Dev\\Projects\\gbb-ai-hls-factory-prior-auth\\utils\\data\\cases\\003\\b\\labs\\003_b (labs) .pdf (pdfhandler.py:_process_single_pdf:230)\n",
      "2025-01-31 15:51:55,519 - micro - MainProcess - INFO     Processing page 1 of 'C:\\Dev\\Projects\\gbb-ai-hls-factory-prior-auth\\utils\\data\\cases\\003\\b\\labs\\003_b (labs) .pdf' (pdfhandler.py:_process_single_pdf:235)\n",
      "2025-01-31 15:51:55,608 - micro - MainProcess - INFO     Saved image: C:\\Users\\jokarash\\AppData\\Local\\Temp\\tmpechts7aa\\003_b (labs) -page-1.png (pdfhandler.py:_process_single_pdf:243)\n",
      "2025-01-31 15:51:55,610 - micro - MainProcess - INFO     Processing page 2 of 'C:\\Dev\\Projects\\gbb-ai-hls-factory-prior-auth\\utils\\data\\cases\\003\\b\\labs\\003_b (labs) .pdf' (pdfhandler.py:_process_single_pdf:235)\n",
      "2025-01-31 15:51:55,718 - micro - MainProcess - INFO     Saved image: C:\\Users\\jokarash\\AppData\\Local\\Temp\\tmpechts7aa\\003_b (labs) -page-2.png (pdfhandler.py:_process_single_pdf:243)\n",
      "2025-01-31 15:51:55,720 - micro - MainProcess - INFO     Processing page 3 of 'C:\\Dev\\Projects\\gbb-ai-hls-factory-prior-auth\\utils\\data\\cases\\003\\b\\labs\\003_b (labs) .pdf' (pdfhandler.py:_process_single_pdf:235)\n",
      "2025-01-31 15:51:55,812 - micro - MainProcess - INFO     Saved image: C:\\Users\\jokarash\\AppData\\Local\\Temp\\tmpechts7aa\\003_b (labs) -page-3.png (pdfhandler.py:_process_single_pdf:243)\n",
      "2025-01-31 15:51:55,971 - micro - MainProcess - INFO     File 'C:\\Users\\jokarash\\AppData\\Local\\Temp\\tmpechts7aa\\003_b (labs) -page-1.png' uploaded to blob 'pa_proccesing_runs/TEST-003a/processed_images/003_b (labs) -page-1.png' successfully. (blob_helper.py:_upload_single_file:201)\n",
      "2025-01-31 15:51:55,974 - PAProcessing - MainProcess - INFO     Uploaded file 'C:\\Users\\jokarash\\AppData\\Local\\Temp\\tmpechts7aa\\003_b (labs) -page-1.png' to blob 'https://storageaeastusfactory.blob.core.windows.net/pre-auth-policies/pa_proccesing_runs/TEST-003a/processed_images/003_b (labs) -page-1.png' in container 'pre-auth-policies'. (run.py:upload_files_to_blob:264)\n",
      "2025-01-31 15:51:56,148 - micro - MainProcess - INFO     File 'C:\\Users\\jokarash\\AppData\\Local\\Temp\\tmpechts7aa\\003_b (labs) -page-2.png' uploaded to blob 'pa_proccesing_runs/TEST-003a/processed_images/003_b (labs) -page-2.png' successfully. (blob_helper.py:_upload_single_file:201)\n",
      "2025-01-31 15:51:56,150 - PAProcessing - MainProcess - INFO     Uploaded file 'C:\\Users\\jokarash\\AppData\\Local\\Temp\\tmpechts7aa\\003_b (labs) -page-2.png' to blob 'https://storageaeastusfactory.blob.core.windows.net/pre-auth-policies/pa_proccesing_runs/TEST-003a/processed_images/003_b (labs) -page-2.png' in container 'pre-auth-policies'. (run.py:upload_files_to_blob:264)\n",
      "2025-01-31 15:51:56,300 - micro - MainProcess - INFO     File 'C:\\Users\\jokarash\\AppData\\Local\\Temp\\tmpechts7aa\\003_b (labs) -page-3.png' uploaded to blob 'pa_proccesing_runs/TEST-003a/processed_images/003_b (labs) -page-3.png' successfully. (blob_helper.py:_upload_single_file:201)\n",
      "2025-01-31 15:51:56,302 - PAProcessing - MainProcess - INFO     Uploaded file 'C:\\Users\\jokarash\\AppData\\Local\\Temp\\tmpechts7aa\\003_b (labs) -page-3.png' to blob 'https://storageaeastusfactory.blob.core.windows.net/pre-auth-policies/pa_proccesing_runs/TEST-003a/processed_images/003_b (labs) -page-3.png' in container 'pre-auth-policies'. (run.py:upload_files_to_blob:264)\n",
      "2025-01-31 15:51:56,305 - PAProcessing - MainProcess - INFO     All files processed for upload to Azure Blob Storage in container 'pre-auth-policies'. (run.py:upload_files_to_blob:274)\n",
      "2025-01-31 15:51:56,307 - PAProcessing - MainProcess - INFO     Images extracted and uploaded from: C:\\Users\\jokarash\\AppData\\Local\\Temp\\tmpechts7aa (run.py:process_uploaded_files:309)\n",
      "2025-01-31 15:51:56,308 - PAProcessing - MainProcess - INFO     Processing file: C:\\Dev\\Projects\\gbb-ai-hls-factory-prior-auth\\utils\\data\\cases\\003\\b\\pa_form\\003_b (form).pdf (run.py:process_uploaded_files:299)\n",
      "2025-01-31 15:51:56,310 - micro - MainProcess - INFO     Input path is a local file or directory: C:\\Dev\\Projects\\gbb-ai-hls-factory-prior-auth\\utils\\data\\cases\\003\\b\\pa_form\\003_b (form).pdf (pdfhandler.py:extract_images_from_pdf:101)\n",
      "2025-01-31 15:51:56,311 - micro - MainProcess - INFO     Opening file: C:\\Dev\\Projects\\gbb-ai-hls-factory-prior-auth\\utils\\data\\cases\\003\\b\\pa_form\\003_b (form).pdf (pdfhandler.py:_process_single_pdf:230)\n",
      "2025-01-31 15:51:56,315 - micro - MainProcess - INFO     Processing page 1 of 'C:\\Dev\\Projects\\gbb-ai-hls-factory-prior-auth\\utils\\data\\cases\\003\\b\\pa_form\\003_b (form).pdf' (pdfhandler.py:_process_single_pdf:235)\n",
      "2025-01-31 15:51:56,448 - micro - MainProcess - INFO     Saved image: C:\\Users\\jokarash\\AppData\\Local\\Temp\\tmpechts7aa\\003_b (form)-page-1.png (pdfhandler.py:_process_single_pdf:243)\n",
      "2025-01-31 15:51:56,455 - micro - MainProcess - INFO     Processing page 2 of 'C:\\Dev\\Projects\\gbb-ai-hls-factory-prior-auth\\utils\\data\\cases\\003\\b\\pa_form\\003_b (form).pdf' (pdfhandler.py:_process_single_pdf:235)\n",
      "2025-01-31 15:51:56,576 - micro - MainProcess - INFO     Saved image: C:\\Users\\jokarash\\AppData\\Local\\Temp\\tmpechts7aa\\003_b (form)-page-2.png (pdfhandler.py:_process_single_pdf:243)\n",
      "2025-01-31 15:51:56,791 - micro - MainProcess - INFO     File 'C:\\Users\\jokarash\\AppData\\Local\\Temp\\tmpechts7aa\\003_b (form)-page-1.png' uploaded to blob 'pa_proccesing_runs/TEST-003a/processed_images/003_b (form)-page-1.png' successfully. (blob_helper.py:_upload_single_file:201)\n",
      "2025-01-31 15:51:56,792 - PAProcessing - MainProcess - INFO     Uploaded file 'C:\\Users\\jokarash\\AppData\\Local\\Temp\\tmpechts7aa\\003_b (form)-page-1.png' to blob 'https://storageaeastusfactory.blob.core.windows.net/pre-auth-policies/pa_proccesing_runs/TEST-003a/processed_images/003_b (form)-page-1.png' in container 'pre-auth-policies'. (run.py:upload_files_to_blob:264)\n",
      "2025-01-31 15:51:56,962 - micro - MainProcess - INFO     File 'C:\\Users\\jokarash\\AppData\\Local\\Temp\\tmpechts7aa\\003_b (form)-page-2.png' uploaded to blob 'pa_proccesing_runs/TEST-003a/processed_images/003_b (form)-page-2.png' successfully. (blob_helper.py:_upload_single_file:201)\n",
      "2025-01-31 15:51:56,966 - PAProcessing - MainProcess - INFO     Uploaded file 'C:\\Users\\jokarash\\AppData\\Local\\Temp\\tmpechts7aa\\003_b (form)-page-2.png' to blob 'https://storageaeastusfactory.blob.core.windows.net/pre-auth-policies/pa_proccesing_runs/TEST-003a/processed_images/003_b (form)-page-2.png' in container 'pre-auth-policies'. (run.py:upload_files_to_blob:264)\n",
      "2025-01-31 15:51:56,969 - PAProcessing - MainProcess - INFO     All files processed for upload to Azure Blob Storage in container 'pre-auth-policies'. (run.py:upload_files_to_blob:274)\n",
      "2025-01-31 15:51:56,972 - PAProcessing - MainProcess - INFO     Images extracted and uploaded from: C:\\Users\\jokarash\\AppData\\Local\\Temp\\tmpechts7aa (run.py:process_uploaded_files:309)\n",
      "2025-01-31 15:51:56,973 - PAProcessing - MainProcess - INFO     Files processed and images extracted to: C:\\Users\\jokarash\\AppData\\Local\\Temp\\tmpechts7aa (run.py:process_uploaded_files:311)\n",
      "2025-01-31 15:51:56,977 - micro - MainProcess - INFO     Found 9 files with extensions ['png'] (utils.py:find_all_files:31)\n",
      "2025-01-31 15:51:56,980 - extractionLLM - MainProcess - INFO     [caseID: TEST-003a] \n",
      "Extracting patient data... (run.py:extract_patient_data:134)\n",
      "2025-01-31 15:51:56,984 - micro - MainProcess - INFO     Function generate_chat_response started at 2025-01-31 15:51:56 (aoai_helper.py:generate_chat_response:382)\n",
      "2025-01-31 15:51:56,988 - micro - MainProcess - INFO     Image C:\\Users\\jokarash\\AppData\\Local\\Temp\\tmpechts7aa\\003_b (form)-page-1.png type: image/png (aoai_helper.py:generate_chat_response:425)\n",
      "2025-01-31 15:51:56,992 - micro - MainProcess - INFO     Image C:\\Users\\jokarash\\AppData\\Local\\Temp\\tmpechts7aa\\003_b (form)-page-2.png type: image/png (aoai_helper.py:generate_chat_response:425)\n",
      "2025-01-31 15:51:56,997 - micro - MainProcess - INFO     Image C:\\Users\\jokarash\\AppData\\Local\\Temp\\tmpechts7aa\\003_b (labs) -page-1.png type: image/png (aoai_helper.py:generate_chat_response:425)\n",
      "2025-01-31 15:51:57,007 - micro - MainProcess - INFO     Image C:\\Users\\jokarash\\AppData\\Local\\Temp\\tmpechts7aa\\003_b (labs) -page-2.png type: image/png (aoai_helper.py:generate_chat_response:425)\n",
      "2025-01-31 15:51:57,011 - micro - MainProcess - INFO     Image C:\\Users\\jokarash\\AppData\\Local\\Temp\\tmpechts7aa\\003_b (labs) -page-3.png type: image/png (aoai_helper.py:generate_chat_response:425)\n",
      "2025-01-31 15:51:57,017 - micro - MainProcess - INFO     Image C:\\Users\\jokarash\\AppData\\Local\\Temp\\tmpechts7aa\\003_b (note) -page-1.png type: image/png (aoai_helper.py:generate_chat_response:425)\n",
      "2025-01-31 15:51:57,021 - micro - MainProcess - INFO     Image C:\\Users\\jokarash\\AppData\\Local\\Temp\\tmpechts7aa\\003_b (note) -page-2.png type: image/png (aoai_helper.py:generate_chat_response:425)\n",
      "2025-01-31 15:51:57,026 - micro - MainProcess - INFO     Image C:\\Users\\jokarash\\AppData\\Local\\Temp\\tmpechts7aa\\003_b (note) -page-3.png type: image/png (aoai_helper.py:generate_chat_response:425)\n",
      "2025-01-31 15:51:57,032 - micro - MainProcess - INFO     Image C:\\Users\\jokarash\\AppData\\Local\\Temp\\tmpechts7aa\\003_b (note) -page-4.png type: image/png (aoai_helper.py:generate_chat_response:425)\n",
      "2025-01-31 15:51:57,036 - micro - MainProcess - INFO     Sending request to Azure OpenAI at 2025-01-31 15:51:57 (aoai_helper.py:generate_chat_response:439)\n",
      "2025-01-31 15:52:04,577 - micro - MainProcess - INFO     Function generate_chat_response finished at 2025-01-31 15:52:04 (Duration: 7.59 seconds) (aoai_helper.py:generate_chat_response:493)\n",
      "2025-01-31 15:52:04,577 - extractionLLM - MainProcess - INFO     [caseID: TEST-003a] \n",
      "Extracting physician data... (run.py:extract_physician_data:185)\n",
      "2025-01-31 15:52:04,579 - micro - MainProcess - INFO     Function generate_chat_response started at 2025-01-31 15:52:04 (aoai_helper.py:generate_chat_response:382)\n",
      "2025-01-31 15:52:04,582 - micro - MainProcess - INFO     Image C:\\Users\\jokarash\\AppData\\Local\\Temp\\tmpechts7aa\\003_b (form)-page-1.png type: image/png (aoai_helper.py:generate_chat_response:425)\n",
      "2025-01-31 15:52:04,585 - micro - MainProcess - INFO     Image C:\\Users\\jokarash\\AppData\\Local\\Temp\\tmpechts7aa\\003_b (form)-page-2.png type: image/png (aoai_helper.py:generate_chat_response:425)\n",
      "2025-01-31 15:52:04,586 - micro - MainProcess - INFO     Image C:\\Users\\jokarash\\AppData\\Local\\Temp\\tmpechts7aa\\003_b (labs) -page-1.png type: image/png (aoai_helper.py:generate_chat_response:425)\n",
      "2025-01-31 15:52:04,590 - micro - MainProcess - INFO     Image C:\\Users\\jokarash\\AppData\\Local\\Temp\\tmpechts7aa\\003_b (labs) -page-2.png type: image/png (aoai_helper.py:generate_chat_response:425)\n",
      "2025-01-31 15:52:04,593 - micro - MainProcess - INFO     Image C:\\Users\\jokarash\\AppData\\Local\\Temp\\tmpechts7aa\\003_b (labs) -page-3.png type: image/png (aoai_helper.py:generate_chat_response:425)\n",
      "2025-01-31 15:52:04,595 - micro - MainProcess - INFO     Image C:\\Users\\jokarash\\AppData\\Local\\Temp\\tmpechts7aa\\003_b (note) -page-1.png type: image/png (aoai_helper.py:generate_chat_response:425)\n",
      "2025-01-31 15:52:04,598 - micro - MainProcess - INFO     Image C:\\Users\\jokarash\\AppData\\Local\\Temp\\tmpechts7aa\\003_b (note) -page-2.png type: image/png (aoai_helper.py:generate_chat_response:425)\n",
      "2025-01-31 15:52:04,603 - micro - MainProcess - INFO     Image C:\\Users\\jokarash\\AppData\\Local\\Temp\\tmpechts7aa\\003_b (note) -page-3.png type: image/png (aoai_helper.py:generate_chat_response:425)\n",
      "2025-01-31 15:52:04,607 - micro - MainProcess - INFO     Image C:\\Users\\jokarash\\AppData\\Local\\Temp\\tmpechts7aa\\003_b (note) -page-4.png type: image/png (aoai_helper.py:generate_chat_response:425)\n",
      "2025-01-31 15:52:04,608 - micro - MainProcess - INFO     Sending request to Azure OpenAI at 2025-01-31 15:52:04 (aoai_helper.py:generate_chat_response:439)\n",
      "2025-01-31 15:52:09,495 - micro - MainProcess - INFO     Function generate_chat_response finished at 2025-01-31 15:52:09 (Duration: 4.92 seconds) (aoai_helper.py:generate_chat_response:493)\n",
      "2025-01-31 15:52:09,496 - extractionLLM - MainProcess - INFO     [caseID: TEST-003a] \n",
      "Extracting clinician data... (run.py:extract_clinician_data:235)\n",
      "2025-01-31 15:52:09,499 - micro - MainProcess - INFO     Function generate_chat_response started at 2025-01-31 15:52:09 (aoai_helper.py:generate_chat_response:382)\n",
      "2025-01-31 15:52:09,505 - micro - MainProcess - INFO     Image C:\\Users\\jokarash\\AppData\\Local\\Temp\\tmpechts7aa\\003_b (form)-page-1.png type: image/png (aoai_helper.py:generate_chat_response:425)\n",
      "2025-01-31 15:52:09,509 - micro - MainProcess - INFO     Image C:\\Users\\jokarash\\AppData\\Local\\Temp\\tmpechts7aa\\003_b (form)-page-2.png type: image/png (aoai_helper.py:generate_chat_response:425)\n",
      "2025-01-31 15:52:09,511 - micro - MainProcess - INFO     Image C:\\Users\\jokarash\\AppData\\Local\\Temp\\tmpechts7aa\\003_b (labs) -page-1.png type: image/png (aoai_helper.py:generate_chat_response:425)\n",
      "2025-01-31 15:52:09,514 - micro - MainProcess - INFO     Image C:\\Users\\jokarash\\AppData\\Local\\Temp\\tmpechts7aa\\003_b (labs) -page-2.png type: image/png (aoai_helper.py:generate_chat_response:425)\n",
      "2025-01-31 15:52:09,516 - micro - MainProcess - INFO     Image C:\\Users\\jokarash\\AppData\\Local\\Temp\\tmpechts7aa\\003_b (labs) -page-3.png type: image/png (aoai_helper.py:generate_chat_response:425)\n",
      "2025-01-31 15:52:09,519 - micro - MainProcess - INFO     Image C:\\Users\\jokarash\\AppData\\Local\\Temp\\tmpechts7aa\\003_b (note) -page-1.png type: image/png (aoai_helper.py:generate_chat_response:425)\n",
      "2025-01-31 15:52:09,522 - micro - MainProcess - INFO     Image C:\\Users\\jokarash\\AppData\\Local\\Temp\\tmpechts7aa\\003_b (note) -page-2.png type: image/png (aoai_helper.py:generate_chat_response:425)\n",
      "2025-01-31 15:52:09,524 - micro - MainProcess - INFO     Image C:\\Users\\jokarash\\AppData\\Local\\Temp\\tmpechts7aa\\003_b (note) -page-3.png type: image/png (aoai_helper.py:generate_chat_response:425)\n",
      "2025-01-31 15:52:09,528 - micro - MainProcess - INFO     Image C:\\Users\\jokarash\\AppData\\Local\\Temp\\tmpechts7aa\\003_b (note) -page-4.png type: image/png (aoai_helper.py:generate_chat_response:425)\n",
      "2025-01-31 15:52:09,529 - micro - MainProcess - INFO     Sending request to Azure OpenAI at 2025-01-31 15:52:09 (aoai_helper.py:generate_chat_response:439)\n",
      "2025-01-31 15:52:22,119 - micro - MainProcess - INFO     Function generate_chat_response finished at 2025-01-31 15:52:22 (Duration: 12.62 seconds) (aoai_helper.py:generate_chat_response:493)\n",
      "2025-01-31 15:52:22,120 - PAProcessing - MainProcess - DEBUG    Data logged for case 'TEST-003a' at step 'ocr_ner_extraction'. (run.py:log_output:391)\n",
      "2025-01-31 15:52:22,121 - agenticRag - MainProcess - INFO     [caseID: TEST-003a] Starting AgenticRAG attempt 1 of 3 (run.py:run:344)\n",
      "2025-01-31 15:52:22,122 - agenticRag - MainProcess - INFO     [caseID: TEST-003a] Expanding query... (run.py:expand_query:114)\n",
      "2025-01-31 15:52:22,155 - micro - MainProcess - INFO     Function generate_chat_response started at 2025-01-31 15:52:22 (aoai_helper.py:generate_chat_response:382)\n",
      "2025-01-31 15:52:22,156 - micro - MainProcess - INFO     Sending request to Azure OpenAI at 2025-01-31 15:52:22 (aoai_helper.py:generate_chat_response:439)\n",
      "2025-01-31 15:52:24,499 - micro - MainProcess - INFO     Function generate_chat_response finished at 2025-01-31 15:52:24 (Duration: 2.34 seconds) (aoai_helper.py:generate_chat_response:493)\n",
      "2025-01-31 15:52:24,501 - agenticRag - MainProcess - INFO     [caseID: TEST-003a] Expanded Query: Prior authorization policy for Blinatumomab for B-cell precursor acute lymphoblastic leukemia (B-ALL) and Philadelphia chromosome-positive B-cell precursor acute lymphoblastic leukemia (B-ALL). Related terms: B-ALL, Philadelphia chromosome-positive ALL, Ph+ ALL, B-cell ALL, relapsed B-ALL, refractory B-ALL, acute lymphoblastic leukemia, acute lymphocytic leukemia, Blincyto, bispecific T-cell engager (BiTE) therapy. Dosage details: 28 mcg/day for induction cycle 1 (Days 1-28), potentially extending up to 6 months based on clinical response. Rationale includes initiation of Blinatumomab therapy in combination with re-induction phase and continued imatinib for relapsed or refractory B-ALL. (run.py:run:356)\n",
      "2025-01-31 15:52:24,502 - agenticRag - MainProcess - INFO     [caseID: TEST-003a] Retrieving policies... (run.py:retrieve_policies:230)\n",
      "2025-01-31 15:52:24,911 - agenticRag - MainProcess - ERROR    [caseID: TEST-003a] An unexpected error occurred on attempt 1 of 3: () The index 'ai-policiesindex' for service 'search-ai-factory-centralus' was not found.\n",
      "Code: \n",
      "Message: The index 'ai-policiesindex' for service 'search-ai-factory-centralus' was not found.. Retrying... (run.py:run:384)\n",
      "2025-01-31 15:52:24,912 - agenticRag - MainProcess - INFO     [caseID: TEST-003a] Starting AgenticRAG attempt 2 of 3 (run.py:run:344)\n",
      "2025-01-31 15:52:24,914 - agenticRag - MainProcess - INFO     [caseID: TEST-003a] Expanding query... (run.py:expand_query:114)\n",
      "2025-01-31 15:52:24,915 - micro - MainProcess - INFO     Function generate_chat_response started at 2025-01-31 15:52:24 (aoai_helper.py:generate_chat_response:382)\n",
      "2025-01-31 15:52:24,916 - micro - MainProcess - INFO     Sending request to Azure OpenAI at 2025-01-31 15:52:24 (aoai_helper.py:generate_chat_response:439)\n",
      "2025-01-31 15:52:27,274 - micro - MainProcess - INFO     Function generate_chat_response finished at 2025-01-31 15:52:27 (Duration: 2.36 seconds) (aoai_helper.py:generate_chat_response:493)\n",
      "2025-01-31 15:52:27,275 - agenticRag - MainProcess - INFO     [caseID: TEST-003a] Expanded Query: Prior authorization policy for Blinatumomab for B-cell precursor acute lymphoblastic leukemia (B-ALL) and Philadelphia chromosome-positive B-cell precursor acute lymphoblastic leukemia (B-ALL). Related terms: B-ALL, Philadelphia chromosome-positive ALL, Ph+ ALL, B-precursor ALL, relapsed acute lymphoblastic leukemia, refractory acute lymphoblastic leukemia, Blincyto, bispecific T-cell engager (BiTE) therapy, immunotherapy, targeted therapy. Dosage details: 28 mcg/day for induction cycle 1 (Days 1-28), with potential continuation based on clinical response, up to 6 months. Rationale includes initiating Blinatumomab therapy along with re-induction phase and continued imatinib for relapsed or refractory B-ALL. (run.py:run:356)\n",
      "2025-01-31 15:52:27,276 - agenticRag - MainProcess - INFO     [caseID: TEST-003a] Retrieving policies... (run.py:retrieve_policies:230)\n",
      "2025-01-31 15:52:27,351 - agenticRag - MainProcess - ERROR    [caseID: TEST-003a] An unexpected error occurred on attempt 2 of 3: () The index 'ai-policiesindex' for service 'search-ai-factory-centralus' was not found.\n",
      "Code: \n",
      "Message: The index 'ai-policiesindex' for service 'search-ai-factory-centralus' was not found.. Retrying... (run.py:run:384)\n",
      "2025-01-31 15:52:27,352 - agenticRag - MainProcess - INFO     [caseID: TEST-003a] Starting AgenticRAG attempt 3 of 3 (run.py:run:344)\n",
      "2025-01-31 15:52:27,354 - agenticRag - MainProcess - INFO     [caseID: TEST-003a] Expanding query... (run.py:expand_query:114)\n",
      "2025-01-31 15:52:27,355 - micro - MainProcess - INFO     Function generate_chat_response started at 2025-01-31 15:52:27 (aoai_helper.py:generate_chat_response:382)\n",
      "2025-01-31 15:52:27,355 - micro - MainProcess - INFO     Sending request to Azure OpenAI at 2025-01-31 15:52:27 (aoai_helper.py:generate_chat_response:439)\n",
      "2025-01-31 15:52:29,374 - micro - MainProcess - INFO     Function generate_chat_response finished at 2025-01-31 15:52:29 (Duration: 2.02 seconds) (aoai_helper.py:generate_chat_response:493)\n",
      "2025-01-31 15:52:29,374 - agenticRag - MainProcess - INFO     [caseID: TEST-003a] Expanded Query: Prior authorization policy for Blinatumomab for B-cell precursor acute lymphoblastic leukemia (B-ALL) and Philadelphia chromosome-positive B-cell precursor acute lymphoblastic leukemia (B-ALL). Related terms: B-ALL, Philadelphia chromosome-positive ALL, Ph+ ALL, B-cell ALL, relapsed B-ALL, refractory B-ALL, acute lymphoblastic leukemia. Dosage details: 28 mcg/day for Induction cycle 1: Days 1-28; therapy duration up to 6 months based on clinical response. Rationale includes re-induction phase and continued imatinib therapy for relapsed or refractory B-ALL. (run.py:run:356)\n",
      "2025-01-31 15:52:29,375 - agenticRag - MainProcess - INFO     [caseID: TEST-003a] Retrieving policies... (run.py:retrieve_policies:230)\n",
      "2025-01-31 15:52:29,451 - agenticRag - MainProcess - ERROR    [caseID: TEST-003a] An unexpected error occurred on attempt 3 of 3: () The index 'ai-policiesindex' for service 'search-ai-factory-centralus' was not found.\n",
      "Code: \n",
      "Message: The index 'ai-policiesindex' for service 'search-ai-factory-centralus' was not found.. Retrying... (run.py:run:384)\n",
      "2025-01-31 15:52:29,452 - agenticRag - MainProcess - ERROR    [caseID: TEST-003a] Max retries reached. Returning empty list of policies. (run.py:run:389)\n",
      "2025-01-31 15:52:29,453 - PAProcessing - MainProcess - ERROR    PAprocessing failed for TEST-003a: No policies found for the given clinical information (run.py:run:624)\n",
      "2025-01-31 15:52:29,456 - PAProcessing - MainProcess - INFO     Cleaned up temporary directory: C:\\Users\\jokarash\\AppData\\Local\\Temp\\tmpechts7aa (run.py:cleanup_temp_dir:428)\n",
      "2025-01-31 15:52:30,117 - PAProcessing - MainProcess - INFO     Results stored in Cosmos DB for caseId TEST-003a (run.py:store_output:411)\n",
      "2025-01-31 15:52:30,118 - PAProcessing - MainProcess - INFO     PAprocessing completed for TEST-003a. Execution time: 36.82 seconds. (run.py:run:635)\n"
     ]
    }
   ],
   "source": [
    "await pa_pipeline.run(uploaded_files=files, use_o1=True)"
   ]
  },
  {
   "cell_type": "code",
   "execution_count": 27,
   "metadata": {},
   "outputs": [
    {
     "data": {
      "text/plain": [
       "{'TEST-003a': {'raw_uploaded_files': ['https://storageaeastusfactory.blob.core.windows.net/pre-auth-policies/pa_proccesing_runs/TEST-003a/raw_uploaded_files/003_b (note) .pdf',\n",
       "   'https://storageaeastusfactory.blob.core.windows.net/pre-auth-policies/pa_proccesing_runs/TEST-003a/raw_uploaded_files/003_b (labs) .pdf',\n",
       "   'https://storageaeastusfactory.blob.core.windows.net/pre-auth-policies/pa_proccesing_runs/TEST-003a/raw_uploaded_files/003_b (form).pdf'],\n",
       "  'processed_images': ['https://storageaeastusfactory.blob.core.windows.net/pre-auth-policies/pa_proccesing_runs/TEST-003a/processed_images/003_b (form)-page-1.png',\n",
       "   'https://storageaeastusfactory.blob.core.windows.net/pre-auth-policies/pa_proccesing_runs/TEST-003a/processed_images/003_b (form)-page-2.png'],\n",
       "  'ocr_ner_results': {'patient_info': {'patient_name': 'Lucas Little',\n",
       "    'patient_date_of_birth': '07/30/2017',\n",
       "    'patient_id': '345987',\n",
       "    'patient_address': '28 Dearborn St, Chicago, IL, 60602',\n",
       "    'patient_phone_number': '555-360-8746'},\n",
       "   'physician_info': {'physician_name': 'Dr. Oncoso',\n",
       "    'specialty': 'Pediatric Hematology and Oncology',\n",
       "    'physician_contact': {'office_phone': '555-324-7878',\n",
       "     'fax': '555-324-7877',\n",
       "     'office_address': '27 W State St, Chicago, IL 60601'}},\n",
       "   'clinical_info': {'diagnosis': 'B-cell precursor acute lymphoblastic leukemia (B-ALL); Philadelphia chromosome-positive B-cell precursor acute lymphoblastic leukemia (B-ALL)',\n",
       "    'icd_10_code': 'C91.00; C91.01',\n",
       "    'prior_treatments_and_results': 'Vincristine: Administered weekly during induction phase; Dexamethasone: Administered daily for 28 days during induction phase; L-asparaginase: Administered on alternate days during induction phase; Daunorubicin: Given as a single dose during the first week of induction phase; Imatinib: Administered daily throughout the induction phase to target the BCR-ABL fusion protein; Methotrexate: High-dose, given weekly during consolidation phase; Mercaptopurine: Daily oral administration during consolidation phase; Vincristine: Administered biweekly during consolidation phase; Cyclophosphamide: Given during the third week of consolidation phase; Doxorubicin: Administered during the final week of consolidation phase; Imatinib: Continued daily administration throughout consolidation phase to maintain suppression of BCR-ABL; Methotrexate: Weekly doses during initial proposed maintenance phase; Mercaptopurine: Daily oral administration during initial proposed maintenance phase; Vincristine: Every 4 weeks during initial proposed maintenance phase; Imatinib: Continued daily administration during maintenance to prevent relapse; Intrathecal Methotrexate: Plan to administer every 2-3 months for CNS prophylaxis.',\n",
       "    'specific_drugs_taken_and_failures': 'Imatinib: Administered daily throughout induction and consolidation phases, continued daily administration during maintenance to prevent relapse; Vincristine: Administered weekly during induction phase, biweekly during consolidation phase, every 4 weeks during initial proposed maintenance phase; Dexamethasone: Administered daily for 28 days during induction phase; L-asparaginase: Administered on alternate days during induction phase; Daunorubicin: Given as a single dose during the first week of induction phase; Methotrexate: High-dose, given weekly during consolidation phase, weekly doses during initial proposed maintenance phase; Mercaptopurine: Daily oral administration during consolidation phase, daily oral administration during initial proposed maintenance phase; Cyclophosphamide: Given during the third week of consolidation phase; Doxorubicin: Administered during the final week of consolidation phase; Intrathecal Methotrexate: Plan to administer every 2-3 months for CNS prophylaxis.',\n",
       "    'alternative_drugs_required': 'Not provided',\n",
       "    'relevant_lab_results_or_imaging': 'White Blood Cell Count (WBC): 4,500 - 10,000 cells/µL; Neutrophils: 40%; Lymphocytes: 20%; Monocytes: 2%; Eosinophils: 1%; Basophils: 0%; Hemoglobin (Hgb): 11.5 g/dL; Hematocrit (Hct): 35%; Platelet Count: 150,000 cells/µL; Bone Marrow Biopsy (10/4/24): Hypercellularity (90%), B-cell precursor acute lymphoblastic leukemia (B-ALL), post-consolidation phase treatment; Bone Marrow Biopsy (3/29/24): Hypercellularity (90%), B-cell precursor acute lymphoblastic leukemia (B-ALL), Philadelphia chromosome-positive (Ph+), 85% lymphoblasts.',\n",
       "    'symptom_severity_and_impact': 'Patient has had mild fatigue and decreased energy, but is overall well appearing with no recent fevers.',\n",
       "    'prognosis_and_risk_if_not_approved': 'If treatment is not approved, there is a risk of disease progression and worsening symptoms due to relapsed or refractory B-ALL.',\n",
       "    'clinical_rationale_for_urgency': 'The patient has relapsed or refractory B-ALL with >90% blasts present, despite current maintenance therapy including imatinib.',\n",
       "    'treatment_request': {'name_of_medication_or_procedure': 'Blinatumomab',\n",
       "     'code_of_medication_or_procedure': 'Not provided',\n",
       "     'dosage': '28 mcg/day',\n",
       "     'duration': 'Induction cycle 1: Days 1-28: 28 mcg/day; Based on clinical response, up to 6 months',\n",
       "     'rationale': 'Initiate Blinatumomab therapy along with re-induction phase and continued imatinib due to relapsed or refractory B-ALL.',\n",
       "     'presumed_eligibility': 'Patient has a diagnosis of Philadelphia chromosome-positive B-cell precursor acute lymphoblastic leukemia (B-ALL); Patient has relapsed or refractory disease; Patient has already started treatment with Blinatumomab.'}}}}}"
      ]
     },
     "execution_count": 27,
     "metadata": {},
     "output_type": "execute_result"
    }
   ],
   "source": [
    "pa_pipeline.results"
   ]
  },
  {
   "cell_type": "markdown",
   "metadata": {},
   "source": [
    "## Query from Cosmos DB"
   ]
  },
  {
   "cell_type": "code",
   "execution_count": 28,
   "metadata": {},
   "outputs": [
    {
     "name": "stderr",
     "output_type": "stream",
     "text": [
      "C:\\Dev\\Projects\\gbb-ai-hls-factory-prior-auth\\src\\cosmosdb\\cosmosmongodb_helper.py:31: UserWarning: You appear to be connected to a CosmosDB cluster. For more information regarding feature compatibility and support please visit https://www.mongodb.com/supportability/cosmosdb\n",
      "  self.client = pymongo.MongoClient(connection_string)\n"
     ]
    }
   ],
   "source": [
    "from src.cosmosdb.cosmosmongodb_helper import CosmosDBMongoCoreManager\n",
    "\n",
    "session_State = CosmosDBMongoCoreManager(\n",
    "    connection_string=os.getenv(\"AZURE_COSMOS_CONNECTION_STRING\"),\n",
    "    database_name=os.getenv(\"AZURE_COSMOS_DB_DATABASE_NAME\"),\n",
    "    collection_name=os.getenv(\"AZURE_COSMOS_DB_COLLECTION_NAME\"),\n",
    ")"
   ]
  },
  {
   "cell_type": "code",
   "execution_count": 29,
   "metadata": {},
   "outputs": [],
   "source": [
    "query = {\"caseId\": CASE_ID}\n",
    "document = session_State.read_document(query)"
   ]
  },
  {
   "cell_type": "code",
   "execution_count": 30,
   "metadata": {},
   "outputs": [
    {
     "data": {
      "text/plain": [
       "{'_id': ObjectId('67703d8844635c4b8950ec7b'),\n",
       " 'caseId': 'TEST-003a',\n",
       " 'raw_uploaded_files': ['https://storageaeastusfactory.blob.core.windows.net/pre-auth-policies/pa_proccesing_runs/TEST-003a/raw_uploaded_files/003_b (note) .pdf',\n",
       "  'https://storageaeastusfactory.blob.core.windows.net/pre-auth-policies/pa_proccesing_runs/TEST-003a/raw_uploaded_files/003_b (labs) .pdf',\n",
       "  'https://storageaeastusfactory.blob.core.windows.net/pre-auth-policies/pa_proccesing_runs/TEST-003a/raw_uploaded_files/003_b (form).pdf'],\n",
       " 'processed_images': ['https://storageaeastusfactory.blob.core.windows.net/pre-auth-policies/pa_proccesing_runs/TEST-003a/processed_images/003_b (form)-page-1.png',\n",
       "  'https://storageaeastusfactory.blob.core.windows.net/pre-auth-policies/pa_proccesing_runs/TEST-003a/processed_images/003_b (form)-page-2.png'],\n",
       " 'ocr_ner_results': {'patient_info': {'patient_name': 'Lucas Little',\n",
       "   'patient_date_of_birth': '07/30/2017',\n",
       "   'patient_id': '345987',\n",
       "   'patient_address': '28 Dearborn St, Chicago, IL, 60602',\n",
       "   'patient_phone_number': '555-360-8746'},\n",
       "  'physician_info': {'physician_name': 'Dr. Oncoso',\n",
       "   'specialty': 'Pediatric Hematology and Oncology',\n",
       "   'physician_contact': {'office_phone': '555-324-7878',\n",
       "    'fax': '555-324-7877',\n",
       "    'office_address': '27 W State St, Chicago, IL 60601'}},\n",
       "  'clinical_info': {'diagnosis': 'B-cell precursor acute lymphoblastic leukemia (B-ALL); Philadelphia chromosome-positive B-cell precursor acute lymphoblastic leukemia (B-ALL)',\n",
       "   'icd_10_code': 'C91.00; C91.01',\n",
       "   'prior_treatments_and_results': 'Vincristine: Administered weekly during induction phase; Dexamethasone: Administered daily for 28 days during induction phase; L-asparaginase: Administered on alternate days during induction phase; Daunorubicin: Given as a single dose during the first week of induction phase; Imatinib: Administered daily throughout the induction phase to target the BCR-ABL fusion protein; Methotrexate: High-dose, given weekly during consolidation phase; Mercaptopurine: Daily oral administration during consolidation phase; Vincristine: Administered biweekly during consolidation phase; Cyclophosphamide: Given during the third week of consolidation phase; Doxorubicin: Administered during the final week of consolidation phase; Imatinib: Continued daily administration throughout consolidation phase to maintain suppression of BCR-ABL; Methotrexate: Weekly doses during initial proposed maintenance phase; Mercaptopurine: Daily oral administration during initial proposed maintenance phase; Vincristine: Every 4 weeks during initial proposed maintenance phase; Imatinib: Continued daily administration during maintenance to prevent relapse; Intrathecal Methotrexate: Plan to administer every 2-3 months for CNS prophylaxis.',\n",
       "   'specific_drugs_taken_and_failures': 'Imatinib: Administered daily throughout induction and consolidation phases, continued daily administration during maintenance to prevent relapse; Vincristine: Administered weekly during induction phase, biweekly during consolidation phase, every 4 weeks during initial proposed maintenance phase; Dexamethasone: Administered daily for 28 days during induction phase; L-asparaginase: Administered on alternate days during induction phase; Daunorubicin: Given as a single dose during the first week of induction phase; Methotrexate: High-dose, given weekly during consolidation phase, weekly doses during initial proposed maintenance phase; Mercaptopurine: Daily oral administration during consolidation phase, daily oral administration during initial proposed maintenance phase; Cyclophosphamide: Given during the third week of consolidation phase; Doxorubicin: Administered during the final week of consolidation phase; Intrathecal Methotrexate: Plan to administer every 2-3 months for CNS prophylaxis.',\n",
       "   'alternative_drugs_required': 'Not provided',\n",
       "   'relevant_lab_results_or_imaging': 'White Blood Cell Count (WBC): 4,500 - 10,000 cells/µL; Neutrophils: 40%; Lymphocytes: 20%; Monocytes: 2%; Eosinophils: 1%; Basophils: 0%; Hemoglobin (Hgb): 11.5 g/dL; Hematocrit (Hct): 35%; Platelet Count: 150,000 cells/µL; Bone Marrow Biopsy (10/4/24): Hypercellularity (90%), B-cell precursor acute lymphoblastic leukemia (B-ALL), post-consolidation phase treatment; Bone Marrow Biopsy (3/29/24): Hypercellularity (90%), B-cell precursor acute lymphoblastic leukemia (B-ALL), Philadelphia chromosome-positive (Ph+), 85% lymphoblasts.',\n",
       "   'symptom_severity_and_impact': 'Patient has had mild fatigue and decreased energy, but is overall well appearing with no recent fevers.',\n",
       "   'prognosis_and_risk_if_not_approved': 'If treatment is not approved, there is a risk of disease progression and worsening symptoms due to relapsed or refractory B-ALL.',\n",
       "   'clinical_rationale_for_urgency': 'The patient has relapsed or refractory B-ALL with >90% blasts present, despite current maintenance therapy including imatinib.',\n",
       "   'treatment_request': {'name_of_medication_or_procedure': 'Blinatumomab',\n",
       "    'code_of_medication_or_procedure': 'Not provided',\n",
       "    'dosage': '28 mcg/day',\n",
       "    'duration': 'Induction cycle 1: Days 1-28: 28 mcg/day; Based on clinical response, up to 6 months',\n",
       "    'rationale': 'Initiate Blinatumomab therapy along with re-induction phase and continued imatinib due to relapsed or refractory B-ALL.',\n",
       "    'presumed_eligibility': 'Patient has a diagnosis of Philadelphia chromosome-positive B-cell precursor acute lymphoblastic leukemia (B-ALL); Patient has relapsed or refractory disease; Patient has already started treatment with Blinatumomab.'}}},\n",
       " 'agenticrag_results': {'query': 'Prior authorization policy for Blinatumomab for B-cell precursor acute lymphoblastic leukemia (B-ALL), Philadelphia chromosome-negative B-ALL, and Minimal Residual Disease (MRD+). Related terms: B-ALL, acute lymphoblastic leukemia, ALL, Philadelphia chromosome-negative, Ph-negative, minimal residual disease, MRD, Blincyto, monoclonal antibody, bispecific T-cell engager (BiTE). Dosage details: 28 mcg/day for induction cycle 1 (Days 1-28), potential duration up to 6 months based on clinical response. Rationale: Initiate Blinatumomab therapy for management of MRD+ B-ALL.',\n",
       "  'policies': ['https://storageaeastusfactory.blob.core.windows.net/pre-auth-policies/policies_ocr/003.pdf'],\n",
       "  'evaluation': {'policies': ['https://storageaeastusfactory.blob.core.windows.net/pre-auth-policies/policies_ocr/003.pdf'],\n",
       "   'reasoning': ['Content from https://storageaeastusfactory.blob.core.windows.net/pre-auth-policies/policies_ocr/003.pdf was approved because it explicitly mentioned Blinatumomab (Blincyto) for the treatment of B-cell precursor acute lymphoblastic leukemia (B-ALL), including Philadelphia chromosome-negative B-ALL and minimal residual disease (MRD+). The policy provides detailed criteria for initial approval, dosage information, and specific conditions for use.'],\n",
       "   'retry': False}},\n",
       " 'pa_determination_results': '**Prior Auth AI Determination**\\n\\nApproved\\n\\n**Rationale**\\n\\nThe prior authorization request for Blinatumomab is approved because the patient meets all the criteria outlined in the policy for initial approval for treatment of minimal residual disease-positive (MRD+) B-cell precursor acute lymphoblastic leukemia (B-ALL). The patient has a confirmed diagnosis of B-ALL, is MRD-positive in remission, the medication is prescribed by a qualified specialist, and the requested dosage is within the policy limits.\\n\\n**Summary of Findings**\\n\\n- The patient, Lucas Little, has a diagnosis of Philadelphia chromosome-negative B-cell precursor acute lymphoblastic leukemia (B-ALL) and is minimal residual disease-positive (MRD+).\\n- The medication is prescribed by Dr. Oncoso, a pediatric hematologist and oncologist.\\n- The requested treatment is Blinatumomab at a dosage of 28 mcg/day.\\n- All policy criteria for initial approval have been fully met.\\n\\n**Detailed Analysis**\\n\\n**Policy Criteria Assessment**\\n\\n- **Criterion 1**: Diagnosis of B-cell precursor acute lymphoblastic leukemia (B-ALL)\\n  - **Assessment**: Fully Met\\n  - **Evidence**: The patient\\'s diagnosis is B-cell precursor acute lymphoblastic leukemia (B-ALL) as stated in the clinical information.\\n  - **Policy Reference**: \"*I. Initial Approval Criteria A. Acute Lymphoblastic Leukemia (must meet all): 1. Diagnosis of B-cell precursor acute lymphoblastic leukemia (B-ALL);*\"\\n\\n- **Criterion 2**: Prescribed by or in consultation with an oncologist or hematologist\\n  - **Assessment**: Fully Met\\n  - **Evidence**: The medication is prescribed by Dr. Oncoso, whose specialty is Pediatric Hematology and Oncology.\\n  - **Policy Reference**: \"*I. Initial Approval Criteria A. Acute Lymphoblastic Leukemia (must meet all): 2. Prescribed by or in consultation with an oncologist or hematologist;*\"\\n\\n- **Criterion 3**: Requested as treatment for (a or b):\\n  - **a. B-ALL in remission but positive for minimal residual disease (MRD+)**\\n    - **Assessment**: Fully Met\\n    - **Evidence**: The patient is in clinical remission following consolidation treatment but is MRD-positive (MRD+), as per clinical information.\\n    - **Policy Reference**: \"*I. Initial Approval Criteria A. Acute Lymphoblastic Leukemia (must meet all): 3. Requested as treatment for (a): a. B-ALL in remission but positive for minimal residual disease (MRD+);*\"\\n\\n- **Criterion 4**: Dose does not exceed 28 mcg/day\\n  - **Assessment**: Fully Met\\n  - **Evidence**: The requested dosage is 28 mcg/day.\\n  - **Policy Reference**: \"*I. Initial Approval Criteria A. Acute Lymphoblastic Leukemia (must meet all): 4. Dose does not exceed 28 mcg/day.*\"\\n\\n**Missing Information**\\n\\nNot applicable.'}"
      ]
     },
     "execution_count": 30,
     "metadata": {},
     "output_type": "execute_result"
    }
   ],
   "source": [
    "document"
   ]
  },
  {
   "cell_type": "code",
   "execution_count": 31,
   "metadata": {},
   "outputs": [
    {
     "name": "stdout",
     "output_type": "stream",
     "text": [
      "**Prior Auth AI Determination**\n",
      "\n",
      "Approved\n",
      "\n",
      "**Rationale**\n",
      "\n",
      "The prior authorization request for Blinatumomab is approved because the patient meets all the criteria outlined in the policy for initial approval for treatment of minimal residual disease-positive (MRD+) B-cell precursor acute lymphoblastic leukemia (B-ALL). The patient has a confirmed diagnosis of B-ALL, is MRD-positive in remission, the medication is prescribed by a qualified specialist, and the requested dosage is within the policy limits.\n",
      "\n",
      "**Summary of Findings**\n",
      "\n",
      "- The patient, Lucas Little, has a diagnosis of Philadelphia chromosome-negative B-cell precursor acute lymphoblastic leukemia (B-ALL) and is minimal residual disease-positive (MRD+).\n",
      "- The medication is prescribed by Dr. Oncoso, a pediatric hematologist and oncologist.\n",
      "- The requested treatment is Blinatumomab at a dosage of 28 mcg/day.\n",
      "- All policy criteria for initial approval have been fully met.\n",
      "\n",
      "**Detailed Analysis**\n",
      "\n",
      "**Policy Criteria Assessment**\n",
      "\n",
      "- **Criterion 1**: Diagnosis of B-cell precursor acute lymphoblastic leukemia (B-ALL)\n",
      "  - **Assessment**: Fully Met\n",
      "  - **Evidence**: The patient's diagnosis is B-cell precursor acute lymphoblastic leukemia (B-ALL) as stated in the clinical information.\n",
      "  - **Policy Reference**: \"*I. Initial Approval Criteria A. Acute Lymphoblastic Leukemia (must meet all): 1. Diagnosis of B-cell precursor acute lymphoblastic leukemia (B-ALL);*\"\n",
      "\n",
      "- **Criterion 2**: Prescribed by or in consultation with an oncologist or hematologist\n",
      "  - **Assessment**: Fully Met\n",
      "  - **Evidence**: The medication is prescribed by Dr. Oncoso, whose specialty is Pediatric Hematology and Oncology.\n",
      "  - **Policy Reference**: \"*I. Initial Approval Criteria A. Acute Lymphoblastic Leukemia (must meet all): 2. Prescribed by or in consultation with an oncologist or hematologist;*\"\n",
      "\n",
      "- **Criterion 3**: Requested as treatment for (a or b):\n",
      "  - **a. B-ALL in remission but positive for minimal residual disease (MRD+)**\n",
      "    - **Assessment**: Fully Met\n",
      "    - **Evidence**: The patient is in clinical remission following consolidation treatment but is MRD-positive (MRD+), as per clinical information.\n",
      "    - **Policy Reference**: \"*I. Initial Approval Criteria A. Acute Lymphoblastic Leukemia (must meet all): 3. Requested as treatment for (a): a. B-ALL in remission but positive for minimal residual disease (MRD+);*\"\n",
      "\n",
      "- **Criterion 4**: Dose does not exceed 28 mcg/day\n",
      "  - **Assessment**: Fully Met\n",
      "  - **Evidence**: The requested dosage is 28 mcg/day.\n",
      "  - **Policy Reference**: \"*I. Initial Approval Criteria A. Acute Lymphoblastic Leukemia (must meet all): 4. Dose does not exceed 28 mcg/day.*\"\n",
      "\n",
      "**Missing Information**\n",
      "\n",
      "Not applicable.\n"
     ]
    }
   ],
   "source": [
    "print(document['pa_determination_results'])"
   ]
  }
 ],
 "metadata": {
  "kernelspec": {
   "display_name": ".venv",
   "language": "python",
   "name": "python3"
  },
  "language_info": {
   "codemirror_mode": {
    "name": "ipython",
    "version": 3
   },
   "file_extension": ".py",
   "mimetype": "text/x-python",
   "name": "python",
   "nbconvert_exporter": "python",
   "pygments_lexer": "ipython3",
   "version": "3.12.8"
  }
 },
 "nbformat": 4,
 "nbformat_minor": 2
}
